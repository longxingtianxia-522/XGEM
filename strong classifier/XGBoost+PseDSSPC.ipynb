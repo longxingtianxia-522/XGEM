{
 "cells": [
  {
   "cell_type": "markdown",
   "metadata": {},
   "source": [
    "### import required packages"
   ]
  },
  {
   "cell_type": "code",
   "execution_count": 1,
   "metadata": {},
   "outputs": [],
   "source": [
    "import pandas as pd\n",
    "import numpy as np\n",
    "import matplotlib.pyplot as plt\n",
    "import datetime\n",
    "import xgboost   \n",
    "from sklearn.model_selection import cross_val_score\n",
    "from sklearn.model_selection import LeaveOneOut\n",
    "from sklearn.preprocessing import StandardScaler\n",
    "from sklearn.model_selection import GridSearchCV\n",
    "from xgboost import XGBClassifier\n",
    "from sklearn.metrics import confusion_matrix\n",
    "from sklearn.metrics import accuracy_score\n",
    "from sklearn.metrics import roc_auc_score\n",
    "from sklearn.metrics import recall_score\n",
    "from sklearn.metrics import precision_score\n",
    "from sklearn.metrics import f1_score\n",
    "from sklearn.metrics import roc_curve"
   ]
  },
  {
   "cell_type": "markdown",
   "metadata": {},
   "source": [
    "## read data"
   ]
  },
  {
   "cell_type": "code",
   "execution_count": 2,
   "metadata": {},
   "outputs": [],
   "source": [
    "X=pd.read_csv(\"PseDSSPC.csv\",header=None)\n",
    "y=pd.read_csv(\"label.csv\",header=None)"
   ]
  },
  {
   "cell_type": "code",
   "execution_count": 3,
   "metadata": {},
   "outputs": [],
   "source": [
    "data=pd.concat((X,y),axis=1)\n",
    "data=np.array(data)\n",
    "np.random.seed(612)\n",
    "np.random.shuffle(data) \n",
    "data_X=data[:,0:-1]\n",
    "data_y=data[:,-1]"
   ]
  },
  {
   "cell_type": "code",
   "execution_count": 4,
   "metadata": {},
   "outputs": [],
   "source": [
    "transfer=StandardScaler()\n",
    "Standard_X=transfer.fit_transform(data_X)  \n",
    "Standard_Y=data_y"
   ]
  },
  {
   "cell_type": "markdown",
   "metadata": {},
   "source": [
    "## train model"
   ]
  },
  {
   "cell_type": "code",
   "execution_count": 5,
   "metadata": {},
   "outputs": [],
   "source": [
    "cv=LeaveOneOut()"
   ]
  },
  {
   "cell_type": "code",
   "execution_count": 6,
   "metadata": {},
   "outputs": [
    {
     "name": "stdout",
     "output_type": "stream",
     "text": [
      "the mean score of cross validation:0.873\n"
     ]
    }
   ],
   "source": [
    "estimator=XGBClassifier()\n",
    "acc_val=cross_val_score(estimator,Standard_X,Standard_Y,scoring=\"accuracy\",cv=cv)\n",
    "print(\"the mean score of cross validation:{:.3f}\".format(np.mean(acc_val)))"
   ]
  },
  {
   "cell_type": "markdown",
   "metadata": {},
   "source": [
    "## adjust parameters"
   ]
  },
  {
   "cell_type": "markdown",
   "metadata": {},
   "source": [
    "### 1. The number of trees( T )"
   ]
  },
  {
   "cell_type": "code",
   "execution_count": 7,
   "metadata": {},
   "outputs": [
    {
     "name": "stdout",
     "output_type": "stream",
     "text": [
      "best parameters:{'n_estimators': 60}\n",
      "best cross-validation score:0.873\n",
      "best estimator:\n",
      "XGBClassifier(base_score=0.5, booster='gbtree', colsample_bylevel=1,\n",
      "              colsample_bynode=1, colsample_bytree=1, gamma=0, gpu_id=-1,\n",
      "              importance_type='gain', interaction_constraints='',\n",
      "              learning_rate=0.300000012, max_delta_step=0, max_depth=6,\n",
      "              min_child_weight=1, missing=nan, monotone_constraints='()',\n",
      "              n_estimators=60, n_jobs=0, num_parallel_tree=1, random_state=0,\n",
      "              reg_alpha=0, reg_lambda=1, scale_pos_weight=1, subsample=1,\n",
      "              tree_method='exact', validate_parameters=1, verbosity=None)\n"
     ]
    }
   ],
   "source": [
    "param1=np.array(range(50,100,10))\n",
    "param_grid={\"n_estimators\":param1}\n",
    "grid_search=GridSearchCV(XGBClassifier(),param_grid,scoring=\"accuracy\",cv=cv)\n",
    "grid_search.fit(Standard_X,Standard_Y)\n",
    "print(\"best parameters:{}\".format(grid_search.best_params_))                        \n",
    "print(\"best cross-validation score:{:.3f}\".format(grid_search.best_score_))         \n",
    "print(\"best estimator:\\n{}\".format(grid_search.best_estimator_))"
   ]
  },
  {
   "cell_type": "markdown",
   "metadata": {},
   "source": [
    "### 2. Learning rate(R)"
   ]
  },
  {
   "cell_type": "code",
   "execution_count": 8,
   "metadata": {},
   "outputs": [
    {
     "name": "stdout",
     "output_type": "stream",
     "text": [
      "best parameters:{'learning_rate': 0.24}\n",
      "best cross-validation score:0.890\n",
      "best estimator:\n",
      "XGBClassifier(base_score=0.5, booster='gbtree', colsample_bylevel=1,\n",
      "              colsample_bynode=1, colsample_bytree=1, gamma=0, gpu_id=-1,\n",
      "              importance_type='gain', interaction_constraints='',\n",
      "              learning_rate=0.24, max_delta_step=0, max_depth=6,\n",
      "              min_child_weight=1, missing=nan, monotone_constraints='()',\n",
      "              n_estimators=60, n_jobs=0, num_parallel_tree=1, random_state=0,\n",
      "              reg_alpha=0, reg_lambda=1, scale_pos_weight=1, subsample=1,\n",
      "              tree_method='exact', validate_parameters=1, verbosity=None)\n"
     ]
    }
   ],
   "source": [
    "param2=np.array(range(10,52,2))/100\n",
    "param_grid={\"learning_rate\":param2}\n",
    "grid_search=GridSearchCV(XGBClassifier(n_estimators=60),param_grid,scoring=\"accuracy\",cv=cv)\n",
    "grid_search.fit(Standard_X,Standard_Y)\n",
    "print(\"best parameters:{}\".format(grid_search.best_params_))                        \n",
    "print(\"best cross-validation score:{:.3f}\".format(grid_search.best_score_))         \n",
    "print(\"best estimator:\\n{}\".format(grid_search.best_estimator_))"
   ]
  },
  {
   "cell_type": "markdown",
   "metadata": {},
   "source": [
    "### 3. The maximum depth of trees(D)"
   ]
  },
  {
   "cell_type": "code",
   "execution_count": 9,
   "metadata": {},
   "outputs": [
    {
     "name": "stdout",
     "output_type": "stream",
     "text": [
      "best parameters:{'max_depth': 5}\n",
      "best cross-validation score:0.902\n",
      "best estimator:\n",
      "XGBClassifier(base_score=0.5, booster='gbtree', colsample_bylevel=1,\n",
      "              colsample_bynode=1, colsample_bytree=1, gamma=0, gpu_id=-1,\n",
      "              importance_type='gain', interaction_constraints='',\n",
      "              learning_rate=0.24, max_delta_step=0, max_depth=5,\n",
      "              min_child_weight=1, missing=nan, monotone_constraints='()',\n",
      "              n_estimators=60, n_jobs=0, num_parallel_tree=1, random_state=0,\n",
      "              reg_alpha=0, reg_lambda=1, scale_pos_weight=1, subsample=1,\n",
      "              tree_method='exact', validate_parameters=1, verbosity=None)\n"
     ]
    }
   ],
   "source": [
    "param3=np.array(range(3,10,1))\n",
    "param_grid={\"max_depth\":param3}\n",
    "grid_search=GridSearchCV(XGBClassifier(n_estimators=60,learning_rate=0.24),param_grid,scoring=\"accuracy\",cv=cv)\n",
    "grid_search.fit(Standard_X,Standard_Y)\n",
    "print(\"best parameters:{}\".format(grid_search.best_params_))                        \n",
    "print(\"best cross-validation score:{:.3f}\".format(grid_search.best_score_))         \n",
    "print(\"best estimator:\\n{}\".format(grid_search.best_estimator_))"
   ]
  },
  {
   "cell_type": "markdown",
   "metadata": {},
   "source": [
    "### 4.Regularization parameter(λ)"
   ]
  },
  {
   "cell_type": "code",
   "execution_count": 10,
   "metadata": {},
   "outputs": [
    {
     "name": "stdout",
     "output_type": "stream",
     "text": [
      "best parameters:{'reg_lambda': 0.9}\n",
      "best cross-validation score:0.908\n",
      "best estimator:\n",
      "XGBClassifier(base_score=0.5, booster='gbtree', colsample_bylevel=1,\n",
      "              colsample_bynode=1, colsample_bytree=1, gamma=0, gpu_id=-1,\n",
      "              importance_type='gain', interaction_constraints='',\n",
      "              learning_rate=0.24, max_delta_step=0, max_depth=5,\n",
      "              min_child_weight=1, missing=nan, monotone_constraints='()',\n",
      "              n_estimators=60, n_jobs=0, num_parallel_tree=1, random_state=0,\n",
      "              reg_alpha=0, reg_lambda=0.9, scale_pos_weight=1, subsample=1,\n",
      "              tree_method='exact', validate_parameters=1, verbosity=None)\n"
     ]
    }
   ],
   "source": [
    "param4=np.array(range(0,21,1))/10\n",
    "param_grid={\"reg_lambda\":param4}\n",
    "grid_search=GridSearchCV(XGBClassifier(n_estimators=60,learning_rate=0.24,max_depth=5),param_grid,scoring=\"accuracy\",cv=cv)\n",
    "grid_search.fit(Standard_X,Standard_Y)\n",
    "print(\"best parameters:{}\".format(grid_search.best_params_))                        \n",
    "print(\"best cross-validation score:{:.3f}\".format(grid_search.best_score_))         \n",
    "print(\"best estimator:\\n{}\".format(grid_search.best_estimator_))"
   ]
  },
  {
   "cell_type": "markdown",
   "metadata": {},
   "source": [
    "### best parameter value:T=60  R=0.24  D=5   λ=0.9"
   ]
  },
  {
   "cell_type": "markdown",
   "metadata": {},
   "source": [
    "## Evaluation model"
   ]
  },
  {
   "cell_type": "code",
   "execution_count": 11,
   "metadata": {},
   "outputs": [
    {
     "name": "stdout",
     "output_type": "stream",
     "text": [
      "ACC: 0.9075144508670521\n",
      "Precision: 0.9156626506024096\n",
      "Recall: 0.8941176470588236\n",
      "f1_score: 0.9047619047619048\n",
      "AUROC: 0.9478609625668449\n"
     ]
    }
   ],
   "source": [
    "Predict_Y=[]   \n",
    "Prob_Y=[]       \n",
    "Really_Y=Standard_Y  \n",
    "for train_index,test_index in cv.split(Standard_X):\n",
    "    estimator=XGBClassifier(n_estimators=60,learning_rate=0.24,max_depth=5,reg_lambda=0.9)\n",
    "    estimator.fit(Standard_X[train_index],Standard_Y[train_index])\n",
    "    Predict_Y.append(estimator.predict(Standard_X[test_index])[0])\n",
    "    Prob_Y.append(estimator.predict_proba(Standard_X[test_index]))\n",
    "Prob_Y=np.array(Prob_Y)  \n",
    "Prob_Y=Prob_Y.reshape(173,2)  \n",
    "import pandas as pd\n",
    "Prob_Y=pd.DataFrame(Prob_Y)\n",
    "Prob_Y.columns=[\"0\",\"1\"]\n",
    "ACC=accuracy_score(Really_Y,Predict_Y)\n",
    "Recall=recall_score(Really_Y,Predict_Y)\n",
    "Precision=precision_score(Really_Y,Predict_Y)\n",
    "F1_score=f1_score(Really_Y,Predict_Y)\n",
    "AUC=roc_auc_score(Really_Y,np.array(Prob_Y[\"1\"]))\n",
    "print(\"ACC:\",ACC)\n",
    "print(\"Precision:\",Precision)\n",
    "print(\"Recall:\",Recall)\n",
    "print(\"f1_score:\",F1_score)\n",
    "print(\"AUROC:\",AUC)"
   ]
  },
  {
   "cell_type": "markdown",
   "metadata": {},
   "source": [
    "## save model"
   ]
  },
  {
   "cell_type": "code",
   "execution_count": 12,
   "metadata": {},
   "outputs": [],
   "source": [
    "import joblib"
   ]
  },
  {
   "cell_type": "code",
   "execution_count": 13,
   "metadata": {},
   "outputs": [
    {
     "name": "stdout",
     "output_type": "stream",
     "text": [
      "the mean score of cross validation:0.908\n"
     ]
    },
    {
     "data": {
      "text/plain": [
       "['XGBoost+PseDSSPC.pkl']"
      ]
     },
     "execution_count": 13,
     "metadata": {},
     "output_type": "execute_result"
    }
   ],
   "source": [
    "estimator=XGBClassifier(n_estimators=60,learning_rate=0.24,max_depth=5,reg_lambda=0.9)\n",
    "estimator.fit(Standard_X,Standard_Y)\n",
    "acc_val=cross_val_score(estimator,Standard_X,Standard_Y,scoring=\"accuracy\",cv=cv)\n",
    "print(\"the mean score of cross validation:{:.3f}\".format(np.mean(acc_val)))\n",
    "#保存模型\n",
    "joblib.dump(estimator,\"XGBoost+PseDSSPC.pkl\")"
   ]
  },
  {
   "cell_type": "code",
   "execution_count": null,
   "metadata": {},
   "outputs": [],
   "source": []
  }
 ],
 "metadata": {
  "kernelspec": {
   "display_name": "Python 3",
   "language": "python",
   "name": "python3"
  },
  "language_info": {
   "codemirror_mode": {
    "name": "ipython",
    "version": 3
   },
   "file_extension": ".py",
   "mimetype": "text/x-python",
   "name": "python",
   "nbconvert_exporter": "python",
   "pygments_lexer": "ipython3",
   "version": "3.8.3"
  }
 },
 "nbformat": 4,
 "nbformat_minor": 4
}
