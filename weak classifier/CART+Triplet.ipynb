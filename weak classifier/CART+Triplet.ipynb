{
 "cells": [
  {
   "cell_type": "markdown",
   "metadata": {},
   "source": [
    "### import required packages"
   ]
  },
  {
   "cell_type": "code",
   "execution_count": 1,
   "metadata": {},
   "outputs": [],
   "source": [
    "import pandas as pd\n",
    "import numpy as np\n",
    "import matplotlib.pyplot as plt\n",
    "import datetime\n",
    "from sklearn.tree import DecisionTreeClassifier\n",
    "from sklearn.model_selection import cross_val_score\n",
    "from sklearn.model_selection import LeaveOneOut\n",
    "from sklearn.preprocessing import StandardScaler\n",
    "from sklearn.model_selection import GridSearchCV"
   ]
  },
  {
   "cell_type": "markdown",
   "metadata": {},
   "source": [
    "### read data"
   ]
  },
  {
   "cell_type": "code",
   "execution_count": 4,
   "metadata": {},
   "outputs": [],
   "source": [
    "X=pd.read_csv(\"Triplet.csv\",header=None)\n",
    "y=pd.read_csv(\"label.csv\",header=None)"
   ]
  },
  {
   "cell_type": "code",
   "execution_count": 5,
   "metadata": {},
   "outputs": [],
   "source": [
    "data=pd.concat((X,y),axis=1)\n",
    "data=np.array(data)\n",
    "#print(data.shape)\n",
    "np.random.seed(612)\n",
    "np.random.shuffle(data) \n",
    "data_X=data[:,0:-1]\n",
    "data_y=data[:,-1]"
   ]
  },
  {
   "cell_type": "code",
   "execution_count": 7,
   "metadata": {},
   "outputs": [],
   "source": [
    "transfer=StandardScaler()\n",
    "Standard_X=transfer.fit_transform(data_X)  \n",
    "Standard_Y=data_y\n",
    "#print(Standard_X.var())"
   ]
  },
  {
   "cell_type": "markdown",
   "metadata": {},
   "source": [
    "### import model evaluation metrics"
   ]
  },
  {
   "cell_type": "code",
   "execution_count": 8,
   "metadata": {},
   "outputs": [],
   "source": [
    "from sklearn.metrics import confusion_matrix\n",
    "from sklearn.metrics import accuracy_score\n",
    "from sklearn.metrics import roc_auc_score\n",
    "from sklearn.metrics import recall_score\n",
    "from sklearn.metrics import precision_score\n",
    "from sklearn.metrics import f1_score\n",
    "from sklearn.metrics import roc_curve"
   ]
  },
  {
   "cell_type": "code",
   "execution_count": 9,
   "metadata": {},
   "outputs": [],
   "source": [
    "cv=LeaveOneOut()"
   ]
  },
  {
   "cell_type": "code",
   "execution_count": 10,
   "metadata": {},
   "outputs": [
    {
     "name": "stdout",
     "output_type": "stream",
     "text": [
      "Accuracy: 0.8034682080924855\n",
      "Precision: 0.8\n",
      "Recall: 0.8\n",
      "F1_score: 0.8000000000000002\n",
      "AUROC: 0.7909090909090909\n"
     ]
    }
   ],
   "source": [
    "Predict_Y=[]    \n",
    "Prob_Y=[]       \n",
    "Really_Y=Standard_Y\n",
    "for train_index,test_index in cv.split(Standard_X):\n",
    "    estimator=DecisionTreeClassifier(splitter=\"best\",random_state=10,max_depth=4,max_features=30)# train the model  \n",
    "    estimator.fit(Standard_X[train_index],Standard_Y[train_index])\n",
    "    Predict_Y.append(estimator.predict(Standard_X[test_index])[0])\n",
    "    Prob_Y.append(estimator.predict_proba(Standard_X[test_index]))\n",
    "Prob_Y=np.array(Prob_Y)  \n",
    "Prob_Y=Prob_Y.reshape(173,2)  \n",
    "import pandas as pd\n",
    "Prob_Y=pd.DataFrame(Prob_Y)\n",
    "Prob_Y.columns=[\"0\",\"1\"]\n",
    "confusion_matrix(Really_Y,Predict_Y)\n",
    "Accuracy=accuracy_score(Really_Y,Predict_Y)\n",
    "Precision=precision_score(Really_Y,Predict_Y)\n",
    "Recall=recall_score(Really_Y,Predict_Y)\n",
    "F1_score=f1_score(Really_Y,Predict_Y)\n",
    "AUC=roc_auc_score(Really_Y,np.array(Prob_Y[\"1\"]))\n",
    "print(\"Accuracy:\",Accuracy)\n",
    "print(\"Precision:\",Precision)\n",
    "print(\"Recall:\",Recall)\n",
    "print(\"F1_score:\",F1_score)\n",
    "print(\"AUROC:\",AUC)"
   ]
  },
  {
   "cell_type": "code",
   "execution_count": null,
   "metadata": {},
   "outputs": [],
   "source": []
  }
 ],
 "metadata": {
  "kernelspec": {
   "display_name": "Python 3",
   "language": "python",
   "name": "python3"
  },
  "language_info": {
   "codemirror_mode": {
    "name": "ipython",
    "version": 3
   },
   "file_extension": ".py",
   "mimetype": "text/x-python",
   "name": "python",
   "nbconvert_exporter": "python",
   "pygments_lexer": "ipython3",
   "version": "3.8.3"
  }
 },
 "nbformat": 4,
 "nbformat_minor": 4
}
