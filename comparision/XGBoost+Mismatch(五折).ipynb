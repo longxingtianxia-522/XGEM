{
 "cells": [
  {
   "cell_type": "markdown",
   "metadata": {},
   "source": [
    "## 导入所需要的包"
   ]
  },
  {
   "cell_type": "code",
   "execution_count": 2,
   "metadata": {},
   "outputs": [],
   "source": [
    "import pandas as pd\n",
    "import numpy as np\n",
    "import matplotlib.pyplot as plt\n",
    "import datetime\n",
    "import xgboost   # 导入xgboost库\n",
    "#from sklearn.ensemble import RandomForestClassifier\n",
    "from sklearn.model_selection import cross_val_score\n",
    "#from feature_selector import FeatureSelector\n",
    "#from sklearn.model_selection import LeaveOneOut\n",
    "from sklearn.preprocessing import StandardScaler\n",
    "from sklearn.model_selection import GridSearchCV\n",
    "from xgboost import XGBClassifier  #导入sklearn分类API"
   ]
  },
  {
   "cell_type": "markdown",
   "metadata": {},
   "source": [
    "## 加载数据集"
   ]
  },
  {
   "cell_type": "code",
   "execution_count": 3,
   "metadata": {},
   "outputs": [],
   "source": [
    "X=pd.read_csv(\"11Mismatch21.csv\",header=None)\n",
    "y=pd.read_csv(\"label.csv\",header=None)"
   ]
  },
  {
   "cell_type": "markdown",
   "metadata": {},
   "source": [
    "## 数据预处理"
   ]
  },
  {
   "cell_type": "code",
   "execution_count": 4,
   "metadata": {},
   "outputs": [
    {
     "name": "stdout",
     "output_type": "stream",
     "text": [
      "(154, 17)\n"
     ]
    }
   ],
   "source": [
    "data=pd.concat((X,y),axis=1)\n",
    "data=np.array(data)\n",
    "print(data.shape)\n",
    "np.random.seed(611)\n",
    "np.random.shuffle(data) \n",
    "data_X=data[:,0:-1]\n",
    "data_y=data[:,-1]"
   ]
  },
  {
   "cell_type": "markdown",
   "metadata": {},
   "source": [
    "## 标准化数据"
   ]
  },
  {
   "cell_type": "code",
   "execution_count": 5,
   "metadata": {},
   "outputs": [
    {
     "name": "stdout",
     "output_type": "stream",
     "text": [
      "1.0\n"
     ]
    }
   ],
   "source": [
    "transfer=StandardScaler()\n",
    "Standard_X=transfer.fit_transform(data_X)  #在该数据集中StandardScaler比MinMaxScaler用的好，数据整体精确度提高\n",
    "Standard_Y=data_y\n",
    "print(Standard_X.var())"
   ]
  },
  {
   "cell_type": "markdown",
   "metadata": {},
   "source": [
    "## 建立模型并调参"
   ]
  },
  {
   "cell_type": "code",
   "execution_count": 6,
   "metadata": {},
   "outputs": [],
   "source": [
    "from sklearn.model_selection import RepeatedStratifiedKFold\n",
    "cv=RepeatedStratifiedKFold(n_splits=5,n_repeats=50,random_state=0) "
   ]
  },
  {
   "cell_type": "markdown",
   "metadata": {},
   "source": [
    "## 输出accuracy值"
   ]
  },
  {
   "cell_type": "code",
   "execution_count": 7,
   "metadata": {},
   "outputs": [
    {
     "name": "stdout",
     "output_type": "stream",
     "text": [
      "2022-02-10 02:29:35.437381\n",
      "2022-02-10 02:29:41.211580\n",
      "the mean score of cross validation:0.894\n"
     ]
    }
   ],
   "source": [
    "print(datetime.datetime.now())\n",
    "estimator=XGBClassifier(n_estimators=80,learning_rate=0.22,max_depth=4,reg_lambda=0)\n",
    "acc_val=cross_val_score(estimator,Standard_X,Standard_Y,scoring=\"accuracy\",cv=cv)       #指标网址：https://scikit-learn.org/stable/modules/model_evaluation.html#scoring-parameter\n",
    "#print(acc_val)                                                                         #roc_auc\n",
    "print(datetime.datetime.now())\n",
    "print(\"the mean score of cross validation:{:.3f}\".format(np.mean(acc_val)))"
   ]
  },
  {
   "cell_type": "markdown",
   "metadata": {},
   "source": [
    "## 输出roc_auc"
   ]
  },
  {
   "cell_type": "code",
   "execution_count": 9,
   "metadata": {},
   "outputs": [
    {
     "name": "stdout",
     "output_type": "stream",
     "text": [
      "2022-02-10 02:30:22.840067\n",
      "2022-02-10 02:30:27.760896\n",
      "the mean score of cross validation:0.949\n"
     ]
    }
   ],
   "source": [
    "print(datetime.datetime.now())\n",
    "estimator=XGBClassifier(n_estimators=80,learning_rate=0.22,max_depth=4,reg_lambda=0)\n",
    "acc_val=cross_val_score(estimator,Standard_X,Standard_Y,scoring=\"roc_auc\",cv=cv)       #指标网址：https://scikit-learn.org/stable/modules/model_evaluation.html#scoring-parameter\n",
    "#print(acc_val)                                                                         #roc_auc\n",
    "print(datetime.datetime.now())\n",
    "print(\"the mean score of cross validation:{:.3f}\".format(np.mean(acc_val)))"
   ]
  },
  {
   "cell_type": "markdown",
   "metadata": {},
   "source": [
    "## 输出f1"
   ]
  },
  {
   "cell_type": "code",
   "execution_count": 10,
   "metadata": {},
   "outputs": [
    {
     "name": "stdout",
     "output_type": "stream",
     "text": [
      "2022-02-10 02:30:55.973000\n",
      "2022-02-10 02:31:00.995557\n",
      "the mean score of cross validation:0.893\n"
     ]
    }
   ],
   "source": [
    "print(datetime.datetime.now())\n",
    "estimator=XGBClassifier(n_estimators=80,learning_rate=0.22,max_depth=4,reg_lambda=0)\n",
    "acc_val=cross_val_score(estimator,Standard_X,Standard_Y,scoring=\"f1\",cv=cv)       #指标网址：https://scikit-learn.org/stable/modules/model_evaluation.html#scoring-parameter\n",
    "#print(acc_val)                                                                         #roc_auc\n",
    "print(datetime.datetime.now())\n",
    "print(\"the mean score of cross validation:{:.3f}\".format(np.mean(acc_val)))"
   ]
  },
  {
   "cell_type": "markdown",
   "metadata": {},
   "source": [
    "## Accuracy:0.894    roc_auc=0.949    f1_score=0.893"
   ]
  },
  {
   "cell_type": "markdown",
   "metadata": {},
   "source": [
    "## 最新一篇文章：ACC=0.8516    F1-score=0.8572    AUC=0.9117"
   ]
  },
  {
   "cell_type": "code",
   "execution_count": null,
   "metadata": {},
   "outputs": [],
   "source": []
  }
 ],
 "metadata": {
  "kernelspec": {
   "display_name": "Python 3",
   "language": "python",
   "name": "python3"
  },
  "language_info": {
   "codemirror_mode": {
    "name": "ipython",
    "version": 3
   },
   "file_extension": ".py",
   "mimetype": "text/x-python",
   "name": "python",
   "nbconvert_exporter": "python",
   "pygments_lexer": "ipython3",
   "version": "3.8.3"
  }
 },
 "nbformat": 4,
 "nbformat_minor": 4
}
