{
 "cells": [
  {
   "cell_type": "markdown",
   "metadata": {},
   "source": [
    "## comparative experiments: dataset1:contains 77 positive samples and 77 negative samples"
   ]
  },
  {
   "cell_type": "markdown",
   "metadata": {},
   "source": [
    "### import required packages"
   ]
  },
  {
   "cell_type": "code",
   "execution_count": 3,
   "metadata": {},
   "outputs": [],
   "source": [
    "import pandas as pd\n",
    "import numpy as np\n",
    "import matplotlib.pyplot as plt\n",
    "import datetime\n",
    "import xgboost \n",
    "from sklearn.model_selection import cross_val_score\n",
    "from sklearn.preprocessing import StandardScaler\n",
    "from sklearn.model_selection import GridSearchCV\n",
    "from xgboost import XGBClassifier  "
   ]
  },
  {
   "cell_type": "markdown",
   "metadata": {},
   "source": [
    "### read data"
   ]
  },
  {
   "cell_type": "code",
   "execution_count": 4,
   "metadata": {},
   "outputs": [],
   "source": [
    "X=pd.read_csv(\"Mismatch.csv\",header=None)\n",
    "y=pd.read_csv(\"label.csv\",header=None)"
   ]
  },
  {
   "cell_type": "code",
   "execution_count": 5,
   "metadata": {},
   "outputs": [
    {
     "name": "stdout",
     "output_type": "stream",
     "text": [
      "(154, 17)\n"
     ]
    }
   ],
   "source": [
    "data=pd.concat((X,y),axis=1)\n",
    "data=np.array(data)\n",
    "print(data.shape)\n",
    "np.random.seed(611)\n",
    "np.random.shuffle(data) \n",
    "data_X=data[:,0:-1]\n",
    "data_y=data[:,-1]"
   ]
  },
  {
   "cell_type": "code",
   "execution_count": 6,
   "metadata": {},
   "outputs": [
    {
     "name": "stdout",
     "output_type": "stream",
     "text": [
      "1.0\n"
     ]
    }
   ],
   "source": [
    "transfer=StandardScaler()\n",
    "Standard_X=transfer.fit_transform(data_X)  \n",
    "Standard_Y=data_y\n",
    "print(Standard_X.var())"
   ]
  },
  {
   "cell_type": "markdown",
   "metadata": {},
   "source": [
    "## five-fold cross-validation repeat 50 times"
   ]
  },
  {
   "cell_type": "code",
   "execution_count": 6,
   "metadata": {},
   "outputs": [],
   "source": [
    "from sklearn.model_selection import RepeatedStratifiedKFold\n",
    "cv=RepeatedStratifiedKFold(n_splits=5,n_repeats=50,random_state=0) "
   ]
  },
  {
   "cell_type": "markdown",
   "metadata": {},
   "source": [
    "## calculate accuracy"
   ]
  },
  {
   "cell_type": "code",
   "execution_count": 7,
   "metadata": {},
   "outputs": [
    {
     "name": "stdout",
     "output_type": "stream",
     "text": [
      "2022-02-10 02:29:35.437381\n",
      "2022-02-10 02:29:41.211580\n",
      "the mean score of cross validation:0.894\n"
     ]
    }
   ],
   "source": [
    "print(datetime.datetime.now())\n",
    "estimator=XGBClassifier(n_estimators=80,learning_rate=0.22,max_depth=4,reg_lambda=0)\n",
    "acc_val=cross_val_score(estimator,Standard_X,Standard_Y,scoring=\"accuracy\",cv=cv)       #https://scikit-learn.org/stable/modules/model_evaluation.html#scoring-parameter\n",
    "#print(acc_val)                                                                         #accuracy\n",
    "print(datetime.datetime.now())\n",
    "print(\"the mean score of cross validation:{:.3f}\".format(np.mean(acc_val)))"
   ]
  },
  {
   "cell_type": "markdown",
   "metadata": {},
   "source": [
    "## calculate AUROC"
   ]
  },
  {
   "cell_type": "code",
   "execution_count": 9,
   "metadata": {},
   "outputs": [
    {
     "name": "stdout",
     "output_type": "stream",
     "text": [
      "2022-02-10 02:30:22.840067\n",
      "2022-02-10 02:30:27.760896\n",
      "the mean score of cross validation:0.949\n"
     ]
    }
   ],
   "source": [
    "print(datetime.datetime.now())\n",
    "estimator=XGBClassifier(n_estimators=80,learning_rate=0.22,max_depth=4,reg_lambda=0)\n",
    "acc_val=cross_val_score(estimator,Standard_X,Standard_Y,scoring=\"roc_auc\",cv=cv)       #https://scikit-learn.org/stable/modules/model_evaluation.html#scoring-parameter\n",
    "#print(acc_val)                                                                         #roc_auc\n",
    "print(datetime.datetime.now())\n",
    "print(\"the mean score of cross validation:{:.3f}\".format(np.mean(acc_val)))"
   ]
  },
  {
   "cell_type": "markdown",
   "metadata": {},
   "source": [
    "## calculate F1-score"
   ]
  },
  {
   "cell_type": "code",
   "execution_count": 10,
   "metadata": {},
   "outputs": [
    {
     "name": "stdout",
     "output_type": "stream",
     "text": [
      "2022-02-10 02:30:55.973000\n",
      "2022-02-10 02:31:00.995557\n",
      "the mean score of cross validation:0.893\n"
     ]
    }
   ],
   "source": [
    "print(datetime.datetime.now())\n",
    "estimator=XGBClassifier(n_estimators=80,learning_rate=0.22,max_depth=4,reg_lambda=0)\n",
    "acc_val=cross_val_score(estimator,Standard_X,Standard_Y,scoring=\"f1\",cv=cv)       #https://scikit-learn.org/stable/modules/model_evaluation.html#scoring-parameter\n",
    "#print(acc_val)                                                                   #f1-score\n",
    "print(datetime.datetime.now())\n",
    "print(\"the mean score of cross validation:{:.3f}\".format(np.mean(acc_val)))"
   ]
  },
  {
   "cell_type": "markdown",
   "metadata": {},
   "source": [
    "## Accuracy:0.894    roc_auc=0.949    f1_score=0.893"
   ]
  }
 ],
 "metadata": {
  "kernelspec": {
   "display_name": "Python 3",
   "language": "python",
   "name": "python3"
  },
  "language_info": {
   "codemirror_mode": {
    "name": "ipython",
    "version": 3
   },
   "file_extension": ".py",
   "mimetype": "text/x-python",
   "name": "python",
   "nbconvert_exporter": "python",
   "pygments_lexer": "ipython3",
   "version": "3.8.3"
  }
 },
 "nbformat": 4,
 "nbformat_minor": 4
}
